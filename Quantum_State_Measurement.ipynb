{
 "cells": [
  {
   "cell_type": "markdown",
   "metadata": {},
   "source": [
    "# Basic Measurement For Quantum Features"
   ]
  },
  {
   "cell_type": "code",
   "execution_count": 1,
   "metadata": {},
   "outputs": [],
   "source": [
    "from qiskit import QuantumCircuit, assemble, Aer\n",
    "from qiskit.visualization import plot_histogram\n",
    "import numpy as np"
   ]
  },
  {
   "cell_type": "markdown",
   "metadata": {},
   "source": [
    "## State Initialization\n",
    "\n",
    "#### Requests:\n",
    "    1. The length should be 2^(input bits)\n",
    "    2. The sum of absolute values of each bit should equal to 1.\n",
    "\n",
    "#### Physical Significance\n",
    "    Each element in the initialization vector represents the wave function of each state\n",
    "\n",
    "#### Further Design Pattern\n",
    "    * Create a initialization vector first\n",
    "    * Only take qubit argument"
   ]
  },
  {
   "cell_type": "markdown",
   "metadata": {},
   "source": [
    "## Single Bit Circuit"
   ]
  },
  {
   "cell_type": "code",
   "execution_count": 2,
   "metadata": {},
   "outputs": [
    {
     "data": {
      "text/html": [
       "<pre style=\"word-wrap: normal;white-space: pre;background: #fff0;line-height: 1.1;font-family: &quot;Courier New&quot;,Courier,monospace\">        ┌───────────────────────────────┐ ░ ┌─┐\n",
       "     q: ┤ Initialize(0.70711,-0.70711j) ├─░─┤M├\n",
       "        └───────────────────────────────┘ ░ └╥┘\n",
       "meas: 1/═════════════════════════════════════╩═\n",
       "                                             0 </pre>"
      ],
      "text/plain": [
       "        ┌───────────────────────────────┐ ░ ┌─┐\n",
       "     q: ┤ Initialize(0.70711,-0.70711j) ├─░─┤M├\n",
       "        └───────────────────────────────┘ ░ └╥┘\n",
       "meas: 1/═════════════════════════════════════╩═\n",
       "                                             0 "
      ]
     },
     "execution_count": 2,
     "metadata": {},
     "output_type": "execute_result"
    }
   ],
   "source": [
    "# single bit initialization\n",
    "\n",
    "cir_sigbit = QuantumCircuit(1)\n",
    "cir_sigbit.initialize([np.cos(np.pi/4), -1j*np.sin(np.pi/4)], cir_sigbit.qubits)\n",
    "\"\"\"\n",
    "The .initialization method takes (qubit, cbit)\n",
    "Assign cbit to qubit\n",
    "\"\"\"\n",
    "cir_sigbit.measure_all()\n",
    "cir_sigbit.draw()"
   ]
  },
  {
   "cell_type": "code",
   "execution_count": 3,
   "metadata": {},
   "outputs": [
    {
     "data": {
      "image/png": "[encoded data removed]",
      "text/plain": [
       "<Figure size 504x360 with 1 Axes>"
      ]
     },
     "execution_count": 3,
     "metadata": {},
     "output_type": "execute_result"
    }
   ],
   "source": [
    "sim = Aer.get_backend('aer_simulator') \n",
    "result = sim.run(cir_sigbit).result()\n",
    "counts = result.get_counts()\n",
    "plot_histogram(counts)"
   ]
  },
  {
   "cell_type": "markdown",
   "metadata": {},
   "source": [
    "## 2-bit Q-Circuit"
   ]
  },
  {
   "cell_type": "code",
   "execution_count": 4,
   "metadata": {},
   "outputs": [
    {
     "data": {
      "text/html": [
       "<pre style=\"word-wrap: normal;white-space: pre;background: #fff0;line-height: 1.1;font-family: &quot;Courier New&quot;,Courier,monospace\">          ┌──────────────────────────────┐ ░ ┌─┐   \n",
       "  q_0: |0>┤0                             ├─░─┤M├───\n",
       "          │  Initialize(0,0.5,0.86603,0) │ ░ └╥┘┌─┐\n",
       "  q_1: |0>┤1                             ├─░──╫─┤M├\n",
       "          └──────────────────────────────┘ ░  ║ └╥┘\n",
       "meas: 0 2/════════════════════════════════════╩══╩═\n",
       "                                              0  1 </pre>"
      ],
      "text/plain": [
       "          ┌──────────────────────────────┐ ░ ┌─┐   \n",
       "  q_0: |0>┤0                             ├─░─┤M├───\n",
       "          │  Initialize(0,0.5,0.86603,0) │ ░ └╥┘┌─┐\n",
       "  q_1: |0>┤1                             ├─░──╫─┤M├\n",
       "          └──────────────────────────────┘ ░  ║ └╥┘\n",
       "meas: 0 2/════════════════════════════════════╩══╩═\n",
       "                                              0  1 "
      ]
     },
     "execution_count": 4,
     "metadata": {},
     "output_type": "execute_result"
    }
   ],
   "source": [
    "circuit2 = QuantumCircuit(2)\n",
    "circuit2.initialize([0, 1/2, np.sqrt(3)/2, 0], circuit2.qubits)\n",
    "circuit2.measure_all()\n",
    "circuit2.draw(initial_state=True)"
   ]
  },
  {
   "cell_type": "code",
   "execution_count": 5,
   "metadata": {},
   "outputs": [
    {
     "data": {
      "image/png": "[encoded data removed]",
      "text/plain": [
       "<Figure size 504x360 with 1 Axes>"
      ]
     },
     "execution_count": 5,
     "metadata": {},
     "output_type": "execute_result"
    }
   ],
   "source": [
    "sim = Aer.get_backend('aer_simulator') \n",
    "result = sim.run(circuit2).result()\n",
    "counts = result.get_counts()\n",
    "plot_histogram(counts)"
   ]
  },
  {
   "cell_type": "markdown",
   "metadata": {},
   "source": [
    "## 2-bit Q-Circuit with equal probability"
   ]
  },
  {
   "cell_type": "code",
   "execution_count": 6,
   "metadata": {},
   "outputs": [
    {
     "data": {
      "text/html": [
       "<pre style=\"word-wrap: normal;white-space: pre;background: #fff0;line-height: 1.1;font-family: &quot;Courier New&quot;,Courier,monospace\">          ┌──────────────────────────────┐ ░ ┌─┐   \n",
       "  q_0: |0>┤0                             ├─░─┤M├───\n",
       "          │  Initialize(0.5,0.5,0.5,0.5) │ ░ └╥┘┌─┐\n",
       "  q_1: |0>┤1                             ├─░──╫─┤M├\n",
       "          └──────────────────────────────┘ ░  ║ └╥┘\n",
       "meas: 0 2/════════════════════════════════════╩══╩═\n",
       "                                              0  1 </pre>"
      ],
      "text/plain": [
       "          ┌──────────────────────────────┐ ░ ┌─┐   \n",
       "  q_0: |0>┤0                             ├─░─┤M├───\n",
       "          │  Initialize(0.5,0.5,0.5,0.5) │ ░ └╥┘┌─┐\n",
       "  q_1: |0>┤1                             ├─░──╫─┤M├\n",
       "          └──────────────────────────────┘ ░  ║ └╥┘\n",
       "meas: 0 2/════════════════════════════════════╩══╩═\n",
       "                                              0  1 "
      ]
     },
     "execution_count": 6,
     "metadata": {},
     "output_type": "execute_result"
    }
   ],
   "source": [
    "circuit4 = QuantumCircuit(2)\n",
    "circuit4.initialize([0.5, 0.5, 0.5, 0.5], circuit4.qubits)\n",
    "'''\n",
    "P(oo)=P(01)=P(10)=P(11)\n",
    "'''\n",
    "circuit4.measure_all()\n",
    "circuit4.draw(initial_state=True)"
   ]
  },
  {
   "cell_type": "code",
   "execution_count": 7,
   "metadata": {},
   "outputs": [
    {
     "data": {
      "image/png": "[encoded data removed]",
      "text/plain": [
       "<Figure size 504x360 with 1 Axes>"
      ]
     },
     "execution_count": 7,
     "metadata": {},
     "output_type": "execute_result"
    }
   ],
   "source": [
    "sim = Aer.get_backend('aer_simulator') \n",
    "result = sim.run(circuit4).result()\n",
    "counts = result.get_counts()\n",
    "plot_histogram(counts)"
   ]
  },
  {
   "cell_type": "code",
   "execution_count": null,
   "metadata": {},
   "outputs": [],
   "source": []
  }
 ],
 "metadata": {
  "interpreter": {
   "hash": "87eb5191032e0edfcaeeef7a42ab0887fa95666d606c6862d47c1d6e795cf8e5"
  },
  "kernelspec": {
   "display_name": "Python 3.10.0 64-bit ('qcom': conda)",
   "language": "python",
   "name": "python3"
  },
  "language_info": {
   "codemirror_mode": {
    "name": "ipython",
    "version": 3
   },
   "file_extension": ".py",
   "mimetype": "text/x-python",
   "name": "python",
   "nbconvert_exporter": "python",
   "pygments_lexer": "ipython3",
   "version": "3.10.0"
  },
  "orig_nbformat": 4
 },
 "nbformat": 4,
 "nbformat_minor": 2
}
